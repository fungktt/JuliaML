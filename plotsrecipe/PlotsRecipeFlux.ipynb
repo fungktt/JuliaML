{
 "cells": [
  {
   "cell_type": "markdown",
   "metadata": {},
   "source": [
    "# Write and document a new recipe for Plots.jl"
   ]
  },
  {
   "cell_type": "markdown",
   "metadata": {},
   "source": [
    "Hi! Today I'll be writing a new reciple for `Plots.jl` on the `Flux.jl` package. Below is an example of a machine learning model I created to classify images. I will have a loss function for my model representing how incorrect the model is. As we keep training the data, we can use the `Flux.throttle` to update the loss by pushing it to an array. This is what I'll be doing. The array will be called `trainloss` and it will be updated every second."
   ]
  },
  {
   "cell_type": "code",
   "execution_count": 19,
   "metadata": {},
   "outputs": [
    {
     "data": {
      "text/plain": [
       "update_loss! (generic function with 1 method)"
      ]
     },
     "execution_count": 19,
     "metadata": {},
     "output_type": "execute_result"
    }
   ],
   "source": [
    "using Flux, Images, CSV, Statistics, Printf\n",
    "data = CSV.File(\"photos.csv\"; header=false)\n",
    "preprocess(img) = vec(Float64.(Gray.(load(\"images/$(img[2])\"))))\n",
    "function create_batch(r)\n",
    "    xs = [preprocess(img) for img in data[r]]\n",
    "    ys = [Flux.onehot(img[6]+1, 1:30) for img in data[r]]\n",
    "    return (Flux.batch(xs), Flux.batch(ys))\n",
    "end\n",
    "trainbatch = create_batch(1:4000)\n",
    "model = Chain(Dense(50176, 512, relu), Dense(512, 64), Dense(64, 30, identity), softmax)\n",
    "loss(x,y) = Flux.crossentropy(model(x), y)\n",
    "opt = ADAM(0.0001)\n",
    "trainloss = []\n",
    "update_loss!() = push!(trainloss, loss(trainbatch...))"
   ]
  },
  {
   "cell_type": "code",
   "execution_count": 20,
   "metadata": {},
   "outputs": [],
   "source": [
    "Flux.train!(loss, params(model), Iterators.repeated(trainbatch, 50), opt; cb = Flux.throttle(update_loss!, 1))"
   ]
  },
  {
   "cell_type": "markdown",
   "metadata": {},
   "source": [
    "Now that the model is done being trained (for now), we can look at the `trainloss` array to see our values."
   ]
  },
  {
   "cell_type": "code",
   "execution_count": 21,
   "metadata": {},
   "outputs": [
    {
     "data": {
      "text/plain": [
       "17-element Array{Any,1}:\n",
       " 16.496405f0 \n",
       "  8.812055f0 \n",
       "  7.624277f0 \n",
       "  5.8139915f0\n",
       "  4.468988f0 \n",
       "  4.1044044f0\n",
       "  3.64901f0  \n",
       "  3.5187101f0\n",
       "  3.389844f0 \n",
       "  3.3675592f0\n",
       "  3.3153782f0\n",
       "  3.2983918f0\n",
       "  3.2858765f0\n",
       "  3.279671f0 \n",
       "  3.2652335f0\n",
       "  3.2542253f0\n",
       "  3.245323f0 "
      ]
     },
     "execution_count": 21,
     "metadata": {},
     "output_type": "execute_result"
    }
   ],
   "source": [
    "trainloss"
   ]
  },
  {
   "cell_type": "markdown",
   "metadata": {},
   "source": [
    "We can create a recipe to help optimise the code. Many packages have custom types and custom data. There is usually specialized structure, and useful methods of visualizing that structure and data. Having a recipe solves the difficult problem of how to build generic visualizations of user-defined data types, without adding bulky dependencies on complex graphics packages. Check [this](http://docs.juliaplots.org/latest/recipes/) out to learn more about it."
   ]
  },
  {
   "cell_type": "code",
   "execution_count": 22,
   "metadata": {},
   "outputs": [],
   "source": [
    "using RecipesBase\n",
    "\n",
    "#the user-defined data type\n",
    "struct myrecipe end\n",
    "\n",
    "@recipe function plot(::myrecipe, loss::Array; customlabel=\"loss\")\n",
    "    \n",
    "    #setting the following attributes if they are unset\n",
    "    markershape --> :c\n",
    "    markercolor --> :red\n",
    "    xrotation   --> -10\n",
    "    yrotation   --> -10\n",
    "    smooth --> false\n",
    "    xlabel --> \"seconds of training\"\n",
    "    ylabel --> \"loss\"\n",
    "    \n",
    "    #forcing the label attribute to be the customlabel\n",
    "    label := customlabel\n",
    "    \n",
    "    #x-axis\n",
    "    1:length(loss)\n",
    "    \n",
    "    #y-axis\n",
    "    loss\n",
    "end"
   ]
  },
  {
   "cell_type": "markdown",
   "metadata": {},
   "source": [
    "Now, we can plot the data and specify the recipe!"
   ]
  },
  {
   "cell_type": "code",
   "execution_count": 23,
   "metadata": {},
   "outputs": [
    {
     "data": {
      "image/svg+xml": [
       "<?xml version=\"1.0\" encoding=\"utf-8\"?>\n",
       "<svg xmlns=\"http://www.w3.org/2000/svg\" xmlns:xlink=\"http://www.w3.org/1999/xlink\" width=\"600\" height=\"400\" viewBox=\"0 0 2400 1600\">\n",
       "<defs>\n",
       "  <clipPath id=\"clip9600\">\n",
       "    <rect x=\"0\" y=\"0\" width=\"2400\" height=\"1600\"/>\n",
       "  </clipPath>\n",
       "</defs>\n",
       "<path clip-path=\"url(#clip9600)\" d=\"\n",
       "M0 1600 L2400 1600 L2400 0 L0 0  Z\n",
       "  \" fill=\"#ffffff\" fill-rule=\"evenodd\" fill-opacity=\"1\"/>\n",
       "<defs>\n",
       "  <clipPath id=\"clip9601\">\n",
       "    <rect x=\"480\" y=\"0\" width=\"1681\" height=\"1600\"/>\n",
       "  </clipPath>\n",
       "</defs>\n",
       "<path clip-path=\"url(#clip9600)\" d=\"\n",
       "M259.72 1413.41 L2352.76 1413.41 L2352.76 47.2441 L259.72 47.2441  Z\n",
       "  \" fill=\"#ffffff\" fill-rule=\"evenodd\" fill-opacity=\"1\"/>\n",
       "<defs>\n",
       "  <clipPath id=\"clip9602\">\n",
       "    <rect x=\"259\" y=\"47\" width=\"2094\" height=\"1367\"/>\n",
       "  </clipPath>\n",
       "</defs>\n",
       "<polyline clip-path=\"url(#clip9602)\" style=\"stroke:#000000; stroke-width:2; stroke-opacity:0.1; fill:none\" points=\"\n",
       "  565.777,1413.41 565.777,47.2441 \n",
       "  \"/>\n",
       "<polyline clip-path=\"url(#clip9602)\" style=\"stroke:#000000; stroke-width:2; stroke-opacity:0.1; fill:none\" points=\"\n",
       "  936.008,1413.41 936.008,47.2441 \n",
       "  \"/>\n",
       "<polyline clip-path=\"url(#clip9602)\" style=\"stroke:#000000; stroke-width:2; stroke-opacity:0.1; fill:none\" points=\"\n",
       "  1306.24,1413.41 1306.24,47.2441 \n",
       "  \"/>\n",
       "<polyline clip-path=\"url(#clip9602)\" style=\"stroke:#000000; stroke-width:2; stroke-opacity:0.1; fill:none\" points=\"\n",
       "  1676.47,1413.41 1676.47,47.2441 \n",
       "  \"/>\n",
       "<polyline clip-path=\"url(#clip9602)\" style=\"stroke:#000000; stroke-width:2; stroke-opacity:0.1; fill:none\" points=\"\n",
       "  2046.7,1413.41 2046.7,47.2441 \n",
       "  \"/>\n",
       "<polyline clip-path=\"url(#clip9602)\" style=\"stroke:#000000; stroke-width:2; stroke-opacity:0.1; fill:none\" points=\"\n",
       "  259.72,1204.08 2352.76,1204.08 \n",
       "  \"/>\n",
       "<polyline clip-path=\"url(#clip9602)\" style=\"stroke:#000000; stroke-width:2; stroke-opacity:0.1; fill:none\" points=\"\n",
       "  259.72,960.926 2352.76,960.926 \n",
       "  \"/>\n",
       "<polyline clip-path=\"url(#clip9602)\" style=\"stroke:#000000; stroke-width:2; stroke-opacity:0.1; fill:none\" points=\"\n",
       "  259.72,717.769 2352.76,717.769 \n",
       "  \"/>\n",
       "<polyline clip-path=\"url(#clip9602)\" style=\"stroke:#000000; stroke-width:2; stroke-opacity:0.1; fill:none\" points=\"\n",
       "  259.72,474.612 2352.76,474.612 \n",
       "  \"/>\n",
       "<polyline clip-path=\"url(#clip9602)\" style=\"stroke:#000000; stroke-width:2; stroke-opacity:0.1; fill:none\" points=\"\n",
       "  259.72,231.454 2352.76,231.454 \n",
       "  \"/>\n",
       "<polyline clip-path=\"url(#clip9600)\" style=\"stroke:#000000; stroke-width:4; stroke-opacity:1; fill:none\" points=\"\n",
       "  259.72,1413.41 2352.76,1413.41 \n",
       "  \"/>\n",
       "<polyline clip-path=\"url(#clip9600)\" style=\"stroke:#000000; stroke-width:4; stroke-opacity:1; fill:none\" points=\"\n",
       "  259.72,1413.41 259.72,47.2441 \n",
       "  \"/>\n",
       "<polyline clip-path=\"url(#clip9600)\" style=\"stroke:#000000; stroke-width:4; stroke-opacity:1; fill:none\" points=\"\n",
       "  565.777,1413.41 565.777,1392.92 \n",
       "  \"/>\n",
       "<polyline clip-path=\"url(#clip9600)\" style=\"stroke:#000000; stroke-width:4; stroke-opacity:1; fill:none\" points=\"\n",
       "  936.008,1413.41 936.008,1392.92 \n",
       "  \"/>\n",
       "<polyline clip-path=\"url(#clip9600)\" style=\"stroke:#000000; stroke-width:4; stroke-opacity:1; fill:none\" points=\"\n",
       "  1306.24,1413.41 1306.24,1392.92 \n",
       "  \"/>\n",
       "<polyline clip-path=\"url(#clip9600)\" style=\"stroke:#000000; stroke-width:4; stroke-opacity:1; fill:none\" points=\"\n",
       "  1676.47,1413.41 1676.47,1392.92 \n",
       "  \"/>\n",
       "<polyline clip-path=\"url(#clip9600)\" style=\"stroke:#000000; stroke-width:4; stroke-opacity:1; fill:none\" points=\"\n",
       "  2046.7,1413.41 2046.7,1392.92 \n",
       "  \"/>\n",
       "<polyline clip-path=\"url(#clip9600)\" style=\"stroke:#000000; stroke-width:4; stroke-opacity:1; fill:none\" points=\"\n",
       "  259.72,1204.08 291.115,1204.08 \n",
       "  \"/>\n",
       "<polyline clip-path=\"url(#clip9600)\" style=\"stroke:#000000; stroke-width:4; stroke-opacity:1; fill:none\" points=\"\n",
       "  259.72,960.926 291.115,960.926 \n",
       "  \"/>\n",
       "<polyline clip-path=\"url(#clip9600)\" style=\"stroke:#000000; stroke-width:4; stroke-opacity:1; fill:none\" points=\"\n",
       "  259.72,717.769 291.115,717.769 \n",
       "  \"/>\n",
       "<polyline clip-path=\"url(#clip9600)\" style=\"stroke:#000000; stroke-width:4; stroke-opacity:1; fill:none\" points=\"\n",
       "  259.72,474.612 291.115,474.612 \n",
       "  \"/>\n",
       "<polyline clip-path=\"url(#clip9600)\" style=\"stroke:#000000; stroke-width:4; stroke-opacity:1; fill:none\" points=\"\n",
       "  259.72,231.454 291.115,231.454 \n",
       "  \"/>\n",
       "<g clip-path=\"url(#clip9600)\">\n",
       "<text style=\"fill:#000000; fill-opacity:1; font-family:Arial,Helvetica Neue,Helvetica,sans-serif; font-size:48px; text-anchor:start;\" transform=\"rotate(-350, 558.484, 1466.78)\" x=\"558.484\" y=\"1466.78\">3</text>\n",
       "</g>\n",
       "<g clip-path=\"url(#clip9600)\">\n",
       "<text style=\"fill:#000000; fill-opacity:1; font-family:Arial,Helvetica Neue,Helvetica,sans-serif; font-size:48px; text-anchor:start;\" transform=\"rotate(-350, 928.714, 1466.78)\" x=\"928.714\" y=\"1466.78\">6</text>\n",
       "</g>\n",
       "<g clip-path=\"url(#clip9600)\">\n",
       "<text style=\"fill:#000000; fill-opacity:1; font-family:Arial,Helvetica Neue,Helvetica,sans-serif; font-size:48px; text-anchor:start;\" transform=\"rotate(-350, 1298.94, 1466.78)\" x=\"1298.94\" y=\"1466.78\">9</text>\n",
       "</g>\n",
       "<g clip-path=\"url(#clip9600)\">\n",
       "<text style=\"fill:#000000; fill-opacity:1; font-family:Arial,Helvetica Neue,Helvetica,sans-serif; font-size:48px; text-anchor:start;\" transform=\"rotate(-350, 1669.18, 1466.78)\" x=\"1669.18\" y=\"1466.78\">12</text>\n",
       "</g>\n",
       "<g clip-path=\"url(#clip9600)\">\n",
       "<text style=\"fill:#000000; fill-opacity:1; font-family:Arial,Helvetica Neue,Helvetica,sans-serif; font-size:48px; text-anchor:start;\" transform=\"rotate(-350, 2039.41, 1466.78)\" x=\"2039.41\" y=\"1466.78\">15</text>\n",
       "</g>\n",
       "<g clip-path=\"url(#clip9600)\">\n",
       "<text style=\"fill:#000000; fill-opacity:1; font-family:Arial,Helvetica Neue,Helvetica,sans-serif; font-size:48px; text-anchor:end;\" transform=\"rotate(-350, 228.427, 1245.45)\" x=\"228.427\" y=\"1245.45\">5.0</text>\n",
       "</g>\n",
       "<g clip-path=\"url(#clip9600)\">\n",
       "<text style=\"fill:#000000; fill-opacity:1; font-family:Arial,Helvetica Neue,Helvetica,sans-serif; font-size:48px; text-anchor:end;\" transform=\"rotate(-350, 228.427, 1002.29)\" x=\"228.427\" y=\"1002.29\">7.5</text>\n",
       "</g>\n",
       "<g clip-path=\"url(#clip9600)\">\n",
       "<text style=\"fill:#000000; fill-opacity:1; font-family:Arial,Helvetica Neue,Helvetica,sans-serif; font-size:48px; text-anchor:end;\" transform=\"rotate(-350, 228.427, 759.131)\" x=\"228.427\" y=\"759.131\">10.0</text>\n",
       "</g>\n",
       "<g clip-path=\"url(#clip9600)\">\n",
       "<text style=\"fill:#000000; fill-opacity:1; font-family:Arial,Helvetica Neue,Helvetica,sans-serif; font-size:48px; text-anchor:end;\" transform=\"rotate(-350, 228.427, 515.973)\" x=\"228.427\" y=\"515.973\">12.5</text>\n",
       "</g>\n",
       "<g clip-path=\"url(#clip9600)\">\n",
       "<text style=\"fill:#000000; fill-opacity:1; font-family:Arial,Helvetica Neue,Helvetica,sans-serif; font-size:48px; text-anchor:end;\" transform=\"rotate(-350, 228.427, 272.816)\" x=\"228.427\" y=\"272.816\">15.0</text>\n",
       "</g>\n",
       "<g clip-path=\"url(#clip9600)\">\n",
       "<text style=\"fill:#000000; fill-opacity:1; font-family:Arial,Helvetica Neue,Helvetica,sans-serif; font-size:66px; text-anchor:middle;\" transform=\"rotate(0, 1306.24, 1555.81)\" x=\"1306.24\" y=\"1555.81\">seconds of training</text>\n",
       "</g>\n",
       "<g clip-path=\"url(#clip9600)\">\n",
       "<text style=\"fill:#000000; fill-opacity:1; font-family:Arial,Helvetica Neue,Helvetica,sans-serif; font-size:66px; text-anchor:middle;\" transform=\"rotate(-90, 99.1782, 730.329)\" x=\"99.1782\" y=\"730.329\">loss</text>\n",
       "</g>\n",
       "<polyline clip-path=\"url(#clip9602)\" style=\"stroke:#009af9; stroke-width:4; stroke-opacity:1; fill:none\" points=\"\n",
       "  318.957,85.9093 442.367,833.312 565.777,948.839 689.187,1124.91 812.597,1255.73 936.008,1291.19 1059.42,1335.49 1182.83,1348.16 1306.24,1360.69 1429.65,1362.86 \n",
       "  1553.06,1367.94 1676.47,1369.59 1799.88,1370.8 1923.29,1371.41 2046.7,1372.81 2170.11,1373.88 2293.52,1374.75 \n",
       "  \"/>\n",
       "<circle clip-path=\"url(#clip9602)\" style=\"fill:#000000; stroke:none; fill-opacity:1\" cx=\"318.957\" cy=\"85.9093\" r=\"18\"/>\n",
       "<circle clip-path=\"url(#clip9602)\" style=\"fill:#ff0000; stroke:none; fill-opacity:1\" cx=\"318.957\" cy=\"85.9093\" r=\"14\"/>\n",
       "<circle clip-path=\"url(#clip9602)\" style=\"fill:#000000; stroke:none; fill-opacity:1\" cx=\"442.367\" cy=\"833.312\" r=\"18\"/>\n",
       "<circle clip-path=\"url(#clip9602)\" style=\"fill:#ff0000; stroke:none; fill-opacity:1\" cx=\"442.367\" cy=\"833.312\" r=\"14\"/>\n",
       "<circle clip-path=\"url(#clip9602)\" style=\"fill:#000000; stroke:none; fill-opacity:1\" cx=\"565.777\" cy=\"948.839\" r=\"18\"/>\n",
       "<circle clip-path=\"url(#clip9602)\" style=\"fill:#ff0000; stroke:none; fill-opacity:1\" cx=\"565.777\" cy=\"948.839\" r=\"14\"/>\n",
       "<circle clip-path=\"url(#clip9602)\" style=\"fill:#000000; stroke:none; fill-opacity:1\" cx=\"689.187\" cy=\"1124.91\" r=\"18\"/>\n",
       "<circle clip-path=\"url(#clip9602)\" style=\"fill:#ff0000; stroke:none; fill-opacity:1\" cx=\"689.187\" cy=\"1124.91\" r=\"14\"/>\n",
       "<circle clip-path=\"url(#clip9602)\" style=\"fill:#000000; stroke:none; fill-opacity:1\" cx=\"812.597\" cy=\"1255.73\" r=\"18\"/>\n",
       "<circle clip-path=\"url(#clip9602)\" style=\"fill:#ff0000; stroke:none; fill-opacity:1\" cx=\"812.597\" cy=\"1255.73\" r=\"14\"/>\n",
       "<circle clip-path=\"url(#clip9602)\" style=\"fill:#000000; stroke:none; fill-opacity:1\" cx=\"936.008\" cy=\"1291.19\" r=\"18\"/>\n",
       "<circle clip-path=\"url(#clip9602)\" style=\"fill:#ff0000; stroke:none; fill-opacity:1\" cx=\"936.008\" cy=\"1291.19\" r=\"14\"/>\n",
       "<circle clip-path=\"url(#clip9602)\" style=\"fill:#000000; stroke:none; fill-opacity:1\" cx=\"1059.42\" cy=\"1335.49\" r=\"18\"/>\n",
       "<circle clip-path=\"url(#clip9602)\" style=\"fill:#ff0000; stroke:none; fill-opacity:1\" cx=\"1059.42\" cy=\"1335.49\" r=\"14\"/>\n",
       "<circle clip-path=\"url(#clip9602)\" style=\"fill:#000000; stroke:none; fill-opacity:1\" cx=\"1182.83\" cy=\"1348.16\" r=\"18\"/>\n",
       "<circle clip-path=\"url(#clip9602)\" style=\"fill:#ff0000; stroke:none; fill-opacity:1\" cx=\"1182.83\" cy=\"1348.16\" r=\"14\"/>\n",
       "<circle clip-path=\"url(#clip9602)\" style=\"fill:#000000; stroke:none; fill-opacity:1\" cx=\"1306.24\" cy=\"1360.69\" r=\"18\"/>\n",
       "<circle clip-path=\"url(#clip9602)\" style=\"fill:#ff0000; stroke:none; fill-opacity:1\" cx=\"1306.24\" cy=\"1360.69\" r=\"14\"/>\n",
       "<circle clip-path=\"url(#clip9602)\" style=\"fill:#000000; stroke:none; fill-opacity:1\" cx=\"1429.65\" cy=\"1362.86\" r=\"18\"/>\n",
       "<circle clip-path=\"url(#clip9602)\" style=\"fill:#ff0000; stroke:none; fill-opacity:1\" cx=\"1429.65\" cy=\"1362.86\" r=\"14\"/>\n",
       "<circle clip-path=\"url(#clip9602)\" style=\"fill:#000000; stroke:none; fill-opacity:1\" cx=\"1553.06\" cy=\"1367.94\" r=\"18\"/>\n",
       "<circle clip-path=\"url(#clip9602)\" style=\"fill:#ff0000; stroke:none; fill-opacity:1\" cx=\"1553.06\" cy=\"1367.94\" r=\"14\"/>\n",
       "<circle clip-path=\"url(#clip9602)\" style=\"fill:#000000; stroke:none; fill-opacity:1\" cx=\"1676.47\" cy=\"1369.59\" r=\"18\"/>\n",
       "<circle clip-path=\"url(#clip9602)\" style=\"fill:#ff0000; stroke:none; fill-opacity:1\" cx=\"1676.47\" cy=\"1369.59\" r=\"14\"/>\n",
       "<circle clip-path=\"url(#clip9602)\" style=\"fill:#000000; stroke:none; fill-opacity:1\" cx=\"1799.88\" cy=\"1370.8\" r=\"18\"/>\n",
       "<circle clip-path=\"url(#clip9602)\" style=\"fill:#ff0000; stroke:none; fill-opacity:1\" cx=\"1799.88\" cy=\"1370.8\" r=\"14\"/>\n",
       "<circle clip-path=\"url(#clip9602)\" style=\"fill:#000000; stroke:none; fill-opacity:1\" cx=\"1923.29\" cy=\"1371.41\" r=\"18\"/>\n",
       "<circle clip-path=\"url(#clip9602)\" style=\"fill:#ff0000; stroke:none; fill-opacity:1\" cx=\"1923.29\" cy=\"1371.41\" r=\"14\"/>\n",
       "<circle clip-path=\"url(#clip9602)\" style=\"fill:#000000; stroke:none; fill-opacity:1\" cx=\"2046.7\" cy=\"1372.81\" r=\"18\"/>\n",
       "<circle clip-path=\"url(#clip9602)\" style=\"fill:#ff0000; stroke:none; fill-opacity:1\" cx=\"2046.7\" cy=\"1372.81\" r=\"14\"/>\n",
       "<circle clip-path=\"url(#clip9602)\" style=\"fill:#000000; stroke:none; fill-opacity:1\" cx=\"2170.11\" cy=\"1373.88\" r=\"18\"/>\n",
       "<circle clip-path=\"url(#clip9602)\" style=\"fill:#ff0000; stroke:none; fill-opacity:1\" cx=\"2170.11\" cy=\"1373.88\" r=\"14\"/>\n",
       "<circle clip-path=\"url(#clip9602)\" style=\"fill:#000000; stroke:none; fill-opacity:1\" cx=\"2293.52\" cy=\"1374.75\" r=\"18\"/>\n",
       "<circle clip-path=\"url(#clip9602)\" style=\"fill:#ff0000; stroke:none; fill-opacity:1\" cx=\"2293.52\" cy=\"1374.75\" r=\"14\"/>\n",
       "<path clip-path=\"url(#clip9600)\" d=\"\n",
       "M1955.17 251.724 L2280.76 251.724 L2280.76 130.764 L1955.17 130.764  Z\n",
       "  \" fill=\"#ffffff\" fill-rule=\"evenodd\" fill-opacity=\"1\"/>\n",
       "<polyline clip-path=\"url(#clip9600)\" style=\"stroke:#000000; stroke-width:4; stroke-opacity:1; fill:none\" points=\"\n",
       "  1955.17,251.724 2280.76,251.724 2280.76,130.764 1955.17,130.764 1955.17,251.724 \n",
       "  \"/>\n",
       "<polyline clip-path=\"url(#clip9600)\" style=\"stroke:#009af9; stroke-width:4; stroke-opacity:1; fill:none\" points=\"\n",
       "  1979.17,191.244 2123.17,191.244 \n",
       "  \"/>\n",
       "<circle clip-path=\"url(#clip9600)\" style=\"fill:#000000; stroke:none; fill-opacity:1\" cx=\"2063.17\" cy=\"191.244\" r=\"25\"/>\n",
       "<circle clip-path=\"url(#clip9600)\" style=\"fill:#ff0000; stroke:none; fill-opacity:1\" cx=\"2063.17\" cy=\"191.244\" r=\"21\"/>\n",
       "<g clip-path=\"url(#clip9600)\">\n",
       "<text style=\"fill:#000000; fill-opacity:1; font-family:Arial,Helvetica Neue,Helvetica,sans-serif; font-size:48px; text-anchor:start;\" transform=\"rotate(0, 2147.17, 208.744)\" x=\"2147.17\" y=\"208.744\">loss</text>\n",
       "</g>\n",
       "</svg>\n"
      ]
     },
     "execution_count": 23,
     "metadata": {},
     "output_type": "execute_result"
    }
   ],
   "source": [
    "using Plots\n",
    "plot(myrecipe(), trainloss)"
   ]
  },
  {
   "cell_type": "markdown",
   "metadata": {},
   "source": [
    "### Possible Improvements\n",
    "\n",
    "In general, I think that the documentation for `Plots.jl` is very good. I first looked at the [recipes page](http://docs.juliaplots.org/latest/recipes/) from http://docs.juliaplots.org/ followed by [RecipesBase](https://github.com/JuliaPlots/RecipesBase.jl). I must say that this isn't my first time using `Plots.jl`, therefore I already knew the basics such as plotting a line graph. However, I do believe that the `RecpiesBase.jl` could benefit from having an actual documentation teaching people. This can be made using `Documenter.jl` which can generate docs automatically. The biggest problem here is that the `README.md` is the only place with information about this and is lacking in depth. It took me quite a while to figure it out, all through trial and error, and I must say that it was slightly confusing. As for `Plots.jl` in general, I believe that there isn't much room for improvement because there's such a wide range of resources on it: cheatsheets, JuliaAcademy tutorials, docs, YouTube videos, and more."
   ]
  }
 ],
 "metadata": {
  "kernelspec": {
   "display_name": "Julia 1.3.0",
   "language": "julia",
   "name": "julia-1.3"
  },
  "language_info": {
   "file_extension": ".jl",
   "mimetype": "application/julia",
   "name": "julia",
   "version": "1.3.0"
  }
 },
 "nbformat": 4,
 "nbformat_minor": 2
}
